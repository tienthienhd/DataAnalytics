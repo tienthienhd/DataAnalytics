{
 "cells": [
  {
   "cell_type": "code",
   "execution_count": 14,
   "metadata": {},
   "outputs": [],
   "source": [
    "from keras.datasets import imdb\n",
    "from keras import preprocessing"
   ]
  },
  {
   "cell_type": "code",
   "execution_count": 15,
   "metadata": {},
   "outputs": [],
   "source": [
    "max_features = 10000\n",
    "maxlen = 200\n",
    "\n",
    "(x_train, y_train), (x_test, y_test) = imdb.load_data(num_words=max_features)"
   ]
  },
  {
   "cell_type": "code",
   "execution_count": 16,
   "metadata": {},
   "outputs": [],
   "source": [
    "# turns the lists of integers into a 2D integer tensor of shape (sample, maxlen)\n",
    "x_train = preprocessing.sequence.pad_sequences(x_train, maxlen=maxlen)\n",
    "x_test = preprocessing.sequence.pad_sequences(x_test, maxlen=maxlen)\n"
   ]
  },
  {
   "cell_type": "code",
   "execution_count": 17,
   "metadata": {},
   "outputs": [
    {
     "name": "stdout",
     "output_type": "stream",
     "text": [
      "_________________________________________________________________\n",
      "Layer (type)                 Output Shape              Param #   \n",
      "=================================================================\n",
      "embedding_4 (Embedding)      (None, 200, 8)            80000     \n",
      "_________________________________________________________________\n",
      "flatten_4 (Flatten)          (None, 1600)              0         \n",
      "_________________________________________________________________\n",
      "dense_4 (Dense)              (None, 1)                 1601      \n",
      "=================================================================\n",
      "Total params: 81,601\n",
      "Trainable params: 81,601\n",
      "Non-trainable params: 0\n",
      "_________________________________________________________________\n"
     ]
    }
   ],
   "source": [
    "from keras.models import Sequential\n",
    "from keras.layers import Flatten, Dense, Embedding\n",
    "\n",
    "model = Sequential()\n",
    "model.add(Embedding(10000, 8, input_length=maxlen))\n",
    "model.add(Flatten()) # flattens the 3D tensor of embedding into a 2D tensor of shape (shamples, maxlen*8)\n",
    "model.add(Dense(1, activation='sigmoid'))\n",
    "model.compile(optimizer='rmsprop', loss='binary_crossentropy', metrics=['acc'])\n",
    "model.summary()"
   ]
  },
  {
   "cell_type": "code",
   "execution_count": 18,
   "metadata": {
    "scrolled": true
   },
   "outputs": [
    {
     "name": "stdout",
     "output_type": "stream",
     "text": [
      "Train on 20000 samples, validate on 5000 samples\n",
      "Epoch 1/10\n",
      "20000/20000 [==============================] - 5s 254us/step - loss: 0.5992 - acc: 0.6914 - val_loss: 0.4071 - val_acc: 0.8398\n",
      "Epoch 2/10\n",
      "20000/20000 [==============================] - 4s 211us/step - loss: 0.3118 - acc: 0.8780 - val_loss: 0.2983 - val_acc: 0.8782\n",
      "Epoch 3/10\n",
      "20000/20000 [==============================] - 4s 219us/step - loss: 0.2362 - acc: 0.9078 - val_loss: 0.2833 - val_acc: 0.8852\n",
      "Epoch 4/10\n",
      "20000/20000 [==============================] - 4s 215us/step - loss: 0.2022 - acc: 0.9231 - val_loss: 0.2778 - val_acc: 0.8894\n",
      "Epoch 5/10\n",
      "20000/20000 [==============================] - 4s 219us/step - loss: 0.1794 - acc: 0.9320 - val_loss: 0.2804 - val_acc: 0.8870\n",
      "Epoch 6/10\n",
      "20000/20000 [==============================] - 4s 213us/step - loss: 0.1619 - acc: 0.9384 - val_loss: 0.2845 - val_acc: 0.8884\n",
      "Epoch 7/10\n",
      "20000/20000 [==============================] - 4s 217us/step - loss: 0.1446 - acc: 0.9465 - val_loss: 0.2903 - val_acc: 0.8874\n",
      "Epoch 8/10\n",
      "20000/20000 [==============================] - 4s 225us/step - loss: 0.1301 - acc: 0.9533 - val_loss: 0.2990 - val_acc: 0.8848\n",
      "Epoch 9/10\n",
      "20000/20000 [==============================] - 4s 219us/step - loss: 0.1155 - acc: 0.9591 - val_loss: 0.3111 - val_acc: 0.8836\n",
      "Epoch 10/10\n",
      "20000/20000 [==============================] - 4s 214us/step - loss: 0.1014 - acc: 0.9644 - val_loss: 0.3183 - val_acc: 0.8836\n"
     ]
    }
   ],
   "source": [
    "history = model.fit(x_train, y_train, \n",
    "                   epochs=10,\n",
    "                   batch_size=32,\n",
    "                    validation_split=0.2)"
   ]
  },
  {
   "cell_type": "code",
   "execution_count": 19,
   "metadata": {},
   "outputs": [
    {
     "data": {
      "image/png": "[encoded data removed]",
      "text/plain": [
       "<Figure size 432x288 with 1 Axes>"
      ]
     },
     "metadata": {},
     "output_type": "display_data"
    }
   ],
   "source": [
    "# plot loss\n",
    "import matplotlib.pyplot as plt\n",
    "epochs = range(1, 11)\n",
    "plt.plot(epochs, history.history['loss'], label='Train loss')\n",
    "plt.plot(epochs, history.history['val_loss'], label='Val loss')\n",
    "plt.xlabel('Epoch')\n",
    "plt.ylabel('Loss')\n",
    "plt.legend()\n",
    "plt.show()"
   ]
  },
  {
   "cell_type": "code",
   "execution_count": null,
   "metadata": {},
   "outputs": [],
   "source": []
  }
 ],
 "metadata": {
  "kernelspec": {
   "display_name": "Python 3",
   "language": "python",
   "name": "python3"
  },
  "language_info": {
   "codemirror_mode": {
    "name": "ipython",
    "version": 3
   },
   "file_extension": ".py",
   "mimetype": "text/x-python",
   "name": "python",
   "nbconvert_exporter": "python",
   "pygments_lexer": "ipython3",
   "version": "3.6.6rc1"
  }
 },
 "nbformat": 4,
 "nbformat_minor": 2
}
