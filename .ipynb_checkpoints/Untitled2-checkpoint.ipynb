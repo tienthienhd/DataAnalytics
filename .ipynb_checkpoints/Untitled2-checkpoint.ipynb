{
 "cells": [
  {
   "cell_type": "code",
   "execution_count": 1,
   "metadata": {},
   "outputs": [],
   "source": [
    "import tensorflow as tf\n",
    "import numpy as np\n",
    "import matplotlib.pyplot as plt"
   ]
  },
  {
   "cell_type": "code",
   "execution_count": 22,
   "metadata": {},
   "outputs": [],
   "source": [
    "# default setting\n",
    "batch_size = 8\n",
    "num_epochs = 100\n",
    "state_size = 64\n",
    "number_of_layers = 2\n",
    "encoder_layers = number_of_layers\n",
    "decoder_layers = number_of_layers\n",
    "keep_dropout_prop = 0.2\n",
    "\n",
    "seq_length = 4 # number of point in the past\n",
    "num_features = 1 # cpu\n",
    "learning_rate = 0.001"
   ]
  },
  {
   "cell_type": "code",
   "execution_count": 23,
   "metadata": {},
   "outputs": [
    {
     "name": "stdout",
     "output_type": "stream",
     "text": [
      "[CONFIG] LSTM Encoder/Decoder Model Configuration:\n",
      "[CONFIG] Batch size: 8\n",
      "[CONFIG] Number of Hidden Layers (Encoder/Decoder): 2/2\n",
      "[CONFIG] Hidden Layer State Size: 64\n",
      "[CONFIG] X Placeholder Shape: [8, 4, 1]\n",
      "[CONFIG] Y Placeholder Shape: [8, 4, 1]\n",
      "\n"
     ]
    }
   ],
   "source": [
    "encoder_x = tf.placeholder(dtype=tf.float32, shape=[batch_size, seq_length, num_features]) # (batch_size, seq_length, num_feature)\n",
    "decoder_x = tf.placeholder(dtype=tf.float32, shape=[batch_size, seq_length, num_features])\n",
    "y = tf.placeholder(dtype=tf.float32, shape=[None, None, num_features])\n",
    "\n",
    "\n",
    "\n",
    "print('[CONFIG] LSTM Encoder/Decoder Model Configuration:')\n",
    "print('[CONFIG] Batch size: {}'.format(batch_size))\n",
    "print('[CONFIG] Number of Hidden Layers (Encoder/Decoder): {}/{}'.format(encoder_layers, decoder_layers))\n",
    "print('[CONFIG] Hidden Layer State Size: {}'.format(state_size))\n",
    "print('[CONFIG] X Placeholder Shape: [{}, {}, {}]'.format(batch_size, seq_length,num_features))\n",
    "print('[CONFIG] Y Placeholder Shape: [{}, {}, {}]\\n'.format(batch_size, seq_length, num_features))"
   ]
  },
  {
   "cell_type": "code",
   "execution_count": 24,
   "metadata": {},
   "outputs": [],
   "source": [
    "# encoder\n",
    "tf.reset_default_graph()\n",
    "\n",
    "# initial state\n",
    "init_state = tf.placeholder(dtype=tf.float32, shape=[number_of_layers, 2, batch_size, state_size]) #2 is output and state\n",
    "state_per_layer_list = tf.unstack(init_state, axis=0)\n",
    "rnn_tuple_state = tuple([\n",
    "    tf.nn.rnn_cell.LSTMStateTuple(state_per_layer_list[i][0], state_per_layer_list[i][1])\n",
    "    for i in range(number_of_layers)\n",
    "])\n"
   ]
  },
  {
   "cell_type": "code",
   "execution_count": null,
   "metadata": {},
   "outputs": [],
   "source": [
    "single_cell = tf.nn.rnn_cell.LSTMCell(num_units=)"
   ]
  }
 ],
 "metadata": {
  "kernelspec": {
   "display_name": "Python 3",
   "language": "python",
   "name": "python3"
  },
  "language_info": {
   "codemirror_mode": {
    "name": "ipython",
    "version": 3
   },
   "file_extension": ".py",
   "mimetype": "text/x-python",
   "name": "python",
   "nbconvert_exporter": "python",
   "pygments_lexer": "ipython3",
   "version": "3.6.6rc1"
  }
 },
 "nbformat": 4,
 "nbformat_minor": 2
}
