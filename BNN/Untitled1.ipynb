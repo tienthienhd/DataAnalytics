{
 "cells": [
  {
   "cell_type": "code",
   "execution_count": 2,
   "metadata": {},
   "outputs": [],
   "source": [
    "import tensorflow as tf\n",
    "import numpy as np\n"
   ]
  },
  {
   "cell_type": "code",
   "execution_count": 3,
   "metadata": {},
   "outputs": [],
   "source": [
    "# batch size = 2, sequence length = 3, num_feature = 1 - > shape={2,3,1}\n",
    "values231 = np.array([\n",
    "    [[1], [2], [3]],\n",
    "    [[2], [3], [4]]\n",
    "])\n",
    "\n",
    "# batch size = 3, sequence length = 5, num_feature = 1 - > shape={2,3,1}\n",
    "values352 = np.array([\n",
    "    [[1, 4], [2, 5], [3, 6], [4, 7], [5, 8]],\n",
    "    [[2, 5], [3, 6], [4, 7], [5, 8], [6, 9]],\n",
    "    [[3, 6], [4, 7], [5, 8], [6, 9], [7, 10]]\n",
    "])\n",
    "\n"
   ]
  },
  {
   "cell_type": "code",
   "execution_count": 13,
   "metadata": {
    "scrolled": true
   },
   "outputs": [
    {
     "name": "stdout",
     "output_type": "stream",
     "text": [
      "inputs: (2, 3, 1)\n",
      "outputs: Tensor(\"rnn/transpose_1:0\", shape=(2, 3, 100), dtype=float32)\n",
      "0\n",
      "state.c: Tensor(\"rnn/while/Exit_3:0\", shape=(2, 100), dtype=float32)\n",
      "state.h Tensor(\"rnn/while/Exit_4:0\", shape=(2, 100), dtype=float32)\n",
      "1\n",
      "state.c: Tensor(\"rnn/while/Exit_5:0\", shape=(2, 100), dtype=float32)\n",
      "state.h Tensor(\"rnn/while/Exit_6:0\", shape=(2, 100), dtype=float32)\n",
      "2\n",
      "state.c: Tensor(\"rnn/while/Exit_7:0\", shape=(2, 100), dtype=float32)\n",
      "state.h Tensor(\"rnn/while/Exit_8:0\", shape=(2, 100), dtype=float32)\n",
      "3\n",
      "state.c: Tensor(\"rnn/while/Exit_9:0\", shape=(2, 100), dtype=float32)\n",
      "state.h Tensor(\"rnn/while/Exit_10:0\", shape=(2, 100), dtype=float32)\n",
      "4\n",
      "state.c: Tensor(\"rnn/while/Exit_11:0\", shape=(2, 100), dtype=float32)\n",
      "state.h Tensor(\"rnn/while/Exit_12:0\", shape=(2, 100), dtype=float32)\n",
      "5\n",
      "state.c: Tensor(\"rnn/while/Exit_13:0\", shape=(2, 100), dtype=float32)\n",
      "state.h Tensor(\"rnn/while/Exit_14:0\", shape=(2, 100), dtype=float32)\n",
      "6\n",
      "state.c: Tensor(\"rnn/while/Exit_15:0\", shape=(2, 100), dtype=float32)\n",
      "state.h Tensor(\"rnn/while/Exit_16:0\", shape=(2, 100), dtype=float32)\n",
      "7\n",
      "state.c: Tensor(\"rnn/while/Exit_17:0\", shape=(2, 100), dtype=float32)\n",
      "state.h Tensor(\"rnn/while/Exit_18:0\", shape=(2, 100), dtype=float32)\n",
      "8\n",
      "state.c: Tensor(\"rnn/while/Exit_19:0\", shape=(2, 100), dtype=float32)\n",
      "state.h Tensor(\"rnn/while/Exit_20:0\", shape=(2, 100), dtype=float32)\n",
      "9\n",
      "state.c: Tensor(\"rnn/while/Exit_21:0\", shape=(2, 100), dtype=float32)\n",
      "state.h Tensor(\"rnn/while/Exit_22:0\", shape=(2, 100), dtype=float32)\n"
     ]
    }
   ],
   "source": [
    "tf.reset_default_graph()\n",
    "tf_values231 = tf.constant(values231, dtype=tf.float32)\n",
    "lstm_cell = tf.contrib.rnn.LSTMCell(num_units=100)\n",
    "lstm = tf.contrib.rnn.MultiRNNCell(cells=[tf.contrib.rnn.LSTMCell(100) for _ in range(10)])\n",
    "\n",
    "outputs, state = tf.nn.dynamic_rnn(cell=lstm, dtype=tf.float32, inputs=tf_values231)\n",
    "\n",
    "\n",
    "print('inputs:', tf_values231.shape)\n",
    "\n",
    "print('outputs:', outputs)\n",
    "\n",
    "for i in range(len(state)):\n",
    "    print(i)\n",
    "    print('state.c:', state[i].c)\n",
    "\n",
    "    print('state.h', state[i].h)\n",
    "\n",
    "with tf.Session() as sess:\n",
    "    sess.run(tf.global_variables_initializer())\n",
    "    output_run, state_run = sess.run([outputs, state])"
   ]
  },
  {
   "cell_type": "code",
   "execution_count": 4,
   "metadata": {
    "scrolled": true
   },
   "outputs": [
    {
     "name": "stdout",
     "output_type": "stream",
     "text": [
      "LSTMStateTuple(c=<tf.Tensor 'MultiRNNCellZeroState/BasicLSTMCellZeroState/zeros:0' shape=(2, 100) dtype=float32>, h=<tf.Tensor 'MultiRNNCellZeroState/BasicLSTMCellZeroState/zeros_1:0' shape=(2, 100) dtype=float32>)\n",
      "------------------------------------------------------\n",
      "LSTMStateTuple(c=<tf.Tensor 'MultiRNNCellZeroState/BasicLSTMCellZeroState_1/zeros:0' shape=(2, 100) dtype=float32>, h=<tf.Tensor 'MultiRNNCellZeroState/BasicLSTMCellZeroState_1/zeros_1:0' shape=(2, 100) dtype=float32>)\n",
      "------------------------------------------------------\n",
      "LSTMStateTuple(c=<tf.Tensor 'MultiRNNCellZeroState/BasicLSTMCellZeroState_2/zeros:0' shape=(2, 100) dtype=float32>, h=<tf.Tensor 'MultiRNNCellZeroState/BasicLSTMCellZeroState_2/zeros_1:0' shape=(2, 100) dtype=float32>)\n",
      "------------------------------------------------------\n",
      "LSTMStateTuple(c=<tf.Tensor 'MultiRNNCellZeroState/BasicLSTMCellZeroState_3/zeros:0' shape=(2, 100) dtype=float32>, h=<tf.Tensor 'MultiRNNCellZeroState/BasicLSTMCellZeroState_3/zeros_1:0' shape=(2, 100) dtype=float32>)\n",
      "------------------------------------------------------\n"
     ]
    }
   ],
   "source": [
    "tf.reset_default_graph()\n",
    "batch_size = 2\n",
    "num_steps = 4\n",
    "lstm_size = 100\n",
    "number_of_layers = 4\n",
    "\n",
    "inputs = np.array([\n",
    "    [[1], [2], [3], [4]],\n",
    "    [[2], [3], [4], [5]]\n",
    "])\n",
    "inputs = tf.constant(dtype=tf.float32, value=inputs)\n",
    "\n",
    "a = tf.placeholder(dtype=tf.float32, shape=[batch_size, num_steps, 1])\n",
    "\n",
    "def lstm_cell():\n",
    "  return tf.contrib.rnn.BasicLSTMCell(lstm_size)\n",
    "stacked_lstm = tf.contrib.rnn.MultiRNNCell(\n",
    "    [lstm_cell() for _ in range(number_of_layers)])\n",
    "\n",
    "initial_state = state = stacked_lstm.zero_state(batch_size, tf.float32)\n",
    "\n",
    "for i in initial_state:\n",
    "    print(i)\n",
    "    print('------------------------------------------------------')\n",
    "    \n",
    "output, state = tf.nn.dynamic_rnn(cell=stacked_lstm, initial_state=initial_state, inputs=inputs)\n"
   ]
  }
 ],
 "metadata": {
  "kernelspec": {
   "display_name": "Python 3",
   "language": "python",
   "name": "python3"
  },
  "language_info": {
   "codemirror_mode": {
    "name": "ipython",
    "version": 3
   },
   "file_extension": ".py",
   "mimetype": "text/x-python",
   "name": "python",
   "nbconvert_exporter": "python",
   "pygments_lexer": "ipython3",
   "version": "3.6.6rc1"
  }
 },
 "nbformat": 4,
 "nbformat_minor": 2
}
