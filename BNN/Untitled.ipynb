{
 "cells": [
  {
   "cell_type": "code",
   "execution_count": 2,
   "metadata": {},
   "outputs": [],
   "source": [
    "import tensorflow as tf\n",
    "import pandas as pd\n",
    "import numpy as np"
   ]
  },
  {
   "cell_type": "code",
   "execution_count": 18,
   "metadata": {},
   "outputs": [
    {
     "data": {
      "text/plain": [
       "<matplotlib.axes._subplots.AxesSubplot at 0x1fa886a0>"
      ]
     },
     "execution_count": 18,
     "metadata": {},
     "output_type": "execute_result"
    },
    {
     "data": {
      "image/png": "[encoded data removed]",
      "text/plain": [
       "<Figure size 432x288 with 1 Axes>"
      ]
     },
     "metadata": {},
     "output_type": "display_data"
    }
   ],
   "source": [
    "dataset = pd.read_csv('cpu.csv', header=None, names=['cpu'])\n",
    "dataset.plot()"
   ]
  },
  {
   "cell_type": "code",
   "execution_count": 4,
   "metadata": {},
   "outputs": [],
   "source": [
    "# prepare data\n",
    "num_features = dataset.shape[1] # number feature = 1\n",
    "num_data_in = 4 # sequence length\n",
    "num_data_out = 1 # sequence length output"
   ]
  },
  {
   "cell_type": "code",
   "execution_count": 5,
   "metadata": {},
   "outputs": [],
   "source": [
    "#convert series to supervised learning\n",
    "def series_to_suppervised(data, n_in=1, n_out=1, dropnan=True):\n",
    "    n_vars = 1 if type(data) is list else data.shape[1]\n",
    "    df = pd.DataFrame(data)\n",
    "    cols, names = list(), list()\n",
    "    # input sequence (t-n...t-1)\n",
    "    for i in range(n_in, 0, -1):\n",
    "        cols.append(df.shift(i))\n",
    "        names += [('var%d(t-%d)' % (j+1, i)) for j in range(n_vars)]\n",
    "    # forecast sequence (t, t+1,...t+n)\n",
    "    for i in range(0, n_out):\n",
    "        cols.append(df.shift(-i))\n",
    "        if i == 0:\n",
    "            names += [('var%d(t)' % (j+1)) for j in range(n_vars)]\n",
    "        else:\n",
    "            names += [('var%d(t+%d)' % (j+1, i)) for j in range(n_vars)]\n",
    "    # put it all together\n",
    "    agg = pd.concat(cols, axis=1)\n",
    "    agg.columns = names\n",
    "    # drop rows with Nan values\n",
    "    if(dropnan):\n",
    "        agg.dropna(inplace=True)\n",
    "    return agg\n"
   ]
  },
  {
   "cell_type": "code",
   "execution_count": 6,
   "metadata": {},
   "outputs": [
    {
     "data": {
      "text/html": [
       "<div>\n",
       "<style scoped>\n",
       "    .dataframe tbody tr th:only-of-type {\n",
       "        vertical-align: middle;\n",
       "    }\n",
       "\n",
       "    .dataframe tbody tr th {\n",
       "        vertical-align: top;\n",
       "    }\n",
       "\n",
       "    .dataframe thead th {\n",
       "        text-align: right;\n",
       "    }\n",
       "</style>\n",
       "<table border=\"1\" class=\"dataframe\">\n",
       "  <thead>\n",
       "    <tr style=\"text-align: right;\">\n",
       "      <th></th>\n",
       "      <th>var1(t-4)</th>\n",
       "      <th>var1(t-3)</th>\n",
       "      <th>var1(t-2)</th>\n",
       "      <th>var1(t-1)</th>\n",
       "      <th>var1(t)</th>\n",
       "    </tr>\n",
       "  </thead>\n",
       "  <tbody>\n",
       "    <tr>\n",
       "      <th>4</th>\n",
       "      <td>0.668381</td>\n",
       "      <td>0.668381</td>\n",
       "      <td>0.739129</td>\n",
       "      <td>0.739129</td>\n",
       "      <td>0.558318</td>\n",
       "    </tr>\n",
       "    <tr>\n",
       "      <th>5</th>\n",
       "      <td>0.668381</td>\n",
       "      <td>0.739129</td>\n",
       "      <td>0.739129</td>\n",
       "      <td>0.558318</td>\n",
       "      <td>0.539101</td>\n",
       "    </tr>\n",
       "    <tr>\n",
       "      <th>6</th>\n",
       "      <td>0.739129</td>\n",
       "      <td>0.739129</td>\n",
       "      <td>0.558318</td>\n",
       "      <td>0.539101</td>\n",
       "      <td>0.539101</td>\n",
       "    </tr>\n",
       "    <tr>\n",
       "      <th>7</th>\n",
       "      <td>0.739129</td>\n",
       "      <td>0.558318</td>\n",
       "      <td>0.539101</td>\n",
       "      <td>0.539101</td>\n",
       "      <td>0.959187</td>\n",
       "    </tr>\n",
       "    <tr>\n",
       "      <th>8</th>\n",
       "      <td>0.558318</td>\n",
       "      <td>0.539101</td>\n",
       "      <td>0.539101</td>\n",
       "      <td>0.959187</td>\n",
       "      <td>0.959187</td>\n",
       "    </tr>\n",
       "  </tbody>\n",
       "</table>\n",
       "</div>"
      ],
      "text/plain": [
       "   var1(t-4)  var1(t-3)  var1(t-2)  var1(t-1)   var1(t)\n",
       "4   0.668381   0.668381   0.739129   0.739129  0.558318\n",
       "5   0.668381   0.739129   0.739129   0.558318  0.539101\n",
       "6   0.739129   0.739129   0.558318   0.539101  0.539101\n",
       "7   0.739129   0.558318   0.539101   0.539101  0.959187\n",
       "8   0.558318   0.539101   0.539101   0.959187  0.959187"
      ]
     },
     "execution_count": 6,
     "metadata": {},
     "output_type": "execute_result"
    }
   ],
   "source": [
    "data = dataset.values\n",
    "data_df = series_to_suppervised(data, num_data_in, num_data_out)\n",
    "data_df.head()"
   ]
  },
  {
   "cell_type": "code",
   "execution_count": 7,
   "metadata": {},
   "outputs": [
    {
     "data": {
      "text/plain": [
       "(13916, 5)"
      ]
     },
     "execution_count": 7,
     "metadata": {},
     "output_type": "execute_result"
    }
   ],
   "source": [
    "data = data_df.values\n",
    "data.shape"
   ]
  },
  {
   "cell_type": "code",
   "execution_count": 8,
   "metadata": {},
   "outputs": [
    {
     "name": "stdout",
     "output_type": "stream",
     "text": [
      "(13916, 4) (13916,)\n"
     ]
    }
   ],
   "source": [
    "X = data[:, :-1]\n",
    "y = data[:, -1]\n",
    "print(X.shape, y.shape)"
   ]
  },
  {
   "cell_type": "code",
   "execution_count": 9,
   "metadata": {},
   "outputs": [
    {
     "name": "stdout",
     "output_type": "stream",
     "text": [
      "(13916, 4, 1)\n"
     ]
    }
   ],
   "source": [
    "X = np.reshape(X, (X.shape[0], X.shape[1], num_features))\n",
    "print(X.shape)"
   ]
  },
  {
   "cell_type": "code",
   "execution_count": 10,
   "metadata": {},
   "outputs": [
    {
     "data": {
      "text/plain": [
       "(10, 4, 1)"
      ]
     },
     "execution_count": 10,
     "metadata": {},
     "output_type": "execute_result"
    }
   ],
   "source": [
    "batch_x = X[:10, :]\n",
    "batch_x.shape"
   ]
  },
  {
   "cell_type": "code",
   "execution_count": 11,
   "metadata": {},
   "outputs": [],
   "source": [
    "tf.reset_default_graph()\n",
    "tf_x = tf.constant(dtype=tf.float32, value=X[:10,:])\n",
    "cell = tf.contrib.rnn.LSTMCell(num_units=100)\n",
    "output, state = tf.nn.dynamic_rnn(cell=cell, inputs=tf_x, dtype=tf.float32)"
   ]
  },
  {
   "cell_type": "code",
   "execution_count": 12,
   "metadata": {},
   "outputs": [
    {
     "name": "stdout",
     "output_type": "stream",
     "text": [
      "(10, 4, 100) [[ 5.85545506e-03  2.58495528e-02 -3.82531062e-02 -1.07275287e-03\n",
      "   2.74770930e-02 -9.55925789e-03  4.64361310e-02 -1.61798913e-02\n",
      "   2.00657286e-02 -2.60657724e-02  6.02018051e-02  3.67846191e-02\n",
      "   1.06071467e-02 -9.33870114e-03  2.04451419e-02 -2.60616895e-02\n",
      "  -7.76561629e-03  4.72947322e-02  4.07589115e-02  2.31764335e-02\n",
      "  -1.42943328e-02 -2.72567738e-02 -2.07410865e-02 -6.56943826e-04\n",
      "  -4.26268438e-03 -3.29956226e-02 -4.84049395e-02  4.77611758e-02\n",
      "  -5.06115668e-02 -8.13105982e-03  3.52609679e-02 -3.10137086e-02\n",
      "  -1.64294802e-02 -2.88530122e-02  4.65815775e-02  6.75983785e-04\n",
      "   4.83573712e-02  2.33866181e-02  3.43272239e-02 -3.31336074e-02\n",
      "  -2.81353872e-02 -1.78201217e-02 -3.82178575e-02 -1.91748068e-02\n",
      "  -2.52660736e-03 -1.88612826e-02 -3.74554507e-02  8.80568661e-03\n",
      "   2.51557417e-02 -2.21289750e-02 -2.93726791e-02 -1.79316569e-02\n",
      "  -3.14006247e-02 -1.63180158e-02 -2.39433311e-02 -1.26376459e-02\n",
      "   1.12107433e-02  2.10216809e-02 -3.06139812e-02 -3.04563567e-02\n",
      "  -3.13421786e-02 -2.17061695e-02 -3.77173908e-02 -3.86386476e-02\n",
      "   4.16636392e-02 -5.06316451e-03 -4.31480817e-02 -4.05333303e-02\n",
      "  -8.45018774e-03 -1.91848748e-03  4.92002815e-02  5.08615784e-02\n",
      "  -2.75928378e-02 -3.56485210e-02  1.62581224e-02 -1.53205739e-02\n",
      "   4.22257446e-02 -2.15899982e-02  4.35693115e-02  4.15486060e-02\n",
      "  -3.46564129e-02  2.06216071e-02  2.95029525e-02  2.75106244e-02\n",
      "   9.00856219e-03  2.46510506e-02  4.01308611e-02 -4.51460518e-02\n",
      "   1.26809790e-03 -2.74244901e-02 -1.85562987e-02 -3.56806954e-03\n",
      "  -1.21385623e-02 -2.57626865e-02  2.69755907e-03  4.90128063e-03\n",
      "  -4.71248478e-02 -1.08278822e-02  8.49779602e-03 -2.65977532e-02]\n",
      " [ 4.87472676e-03  2.41353922e-02 -3.52254882e-02  1.65011923e-04\n",
      "   2.51053218e-02 -8.83483887e-03  4.34550494e-02 -1.44773163e-02\n",
      "   1.82381272e-02 -2.35821307e-02  5.61355613e-02  3.35171223e-02\n",
      "   9.59677994e-03 -8.55406281e-03  1.88995432e-02 -2.42389310e-02\n",
      "  -5.90828713e-03  4.48390879e-02  3.73981409e-02  2.28270553e-02\n",
      "  -1.41425943e-02 -2.45218165e-02 -1.79817863e-02 -1.65037101e-03\n",
      "  -2.82550324e-03 -3.03280037e-02 -4.54198942e-02  4.59070057e-02\n",
      "  -4.80867140e-02 -7.45265419e-03  3.24185044e-02 -2.73772776e-02\n",
      "  -1.50604257e-02 -2.74940841e-02  4.22542095e-02  1.03991537e-03\n",
      "   4.43399362e-02  2.18205322e-02  3.25329565e-02 -2.98823062e-02\n",
      "  -2.63500735e-02 -1.56342257e-02 -3.48142758e-02 -1.86131131e-02\n",
      "  -2.23227218e-03 -1.74113642e-02 -3.64331268e-02  8.71511549e-03\n",
      "   2.31536869e-02 -2.19073892e-02 -2.74077766e-02 -1.60314795e-02\n",
      "  -2.96179410e-02 -1.49834901e-02 -2.15660054e-02 -1.21536180e-02\n",
      "   9.80252028e-03  2.03901287e-02 -2.81749759e-02 -2.71433108e-02\n",
      "  -2.94118784e-02 -2.04121601e-02 -3.37918475e-02 -3.47776972e-02\n",
      "   3.80032919e-02 -5.15702460e-03 -3.95698100e-02 -3.80981304e-02\n",
      "  -8.47992580e-03 -1.77516195e-03  4.59611416e-02  4.68199886e-02\n",
      "  -2.54739523e-02 -3.24907675e-02  1.63610876e-02 -1.35181723e-02\n",
      "   3.83363366e-02 -1.90510489e-02  3.93278897e-02  3.76770981e-02\n",
      "  -3.20619345e-02  1.88257936e-02  2.84347571e-02  2.56283116e-02\n",
      "   8.31624120e-03  2.33754423e-02  3.67098153e-02 -4.09727842e-02\n",
      "   1.20804133e-03 -2.57221162e-02 -1.71753000e-02 -4.20740480e-03\n",
      "  -9.37757920e-03 -2.49838848e-02  2.01789336e-03  4.42484953e-03\n",
      "  -4.28742990e-02 -1.12385424e-02  7.44713144e-03 -2.42146868e-02]\n",
      " [ 4.12983308e-03  2.24140882e-02 -3.26037556e-02  7.16512208e-04\n",
      "   2.29947846e-02 -8.15719087e-03  4.06091884e-02 -1.31372381e-02\n",
      "   1.67045724e-02 -2.17114259e-02  5.25362007e-02  3.08950897e-02\n",
      "   8.84524826e-03 -7.92375486e-03  1.76815148e-02 -2.26110872e-02\n",
      "  -4.86444542e-03  4.20961268e-02  3.44726667e-02  2.20745672e-02\n",
      "  -1.36042973e-02 -2.24079173e-02 -1.60802975e-02 -1.89994497e-03\n",
      "  -2.20175949e-03 -2.82126628e-02 -4.24068123e-02  4.33271974e-02\n",
      "  -4.56422754e-02 -6.86178450e-03  2.99292020e-02 -2.48134956e-02\n",
      "  -1.39399664e-02 -2.59071328e-02  3.90000865e-02  1.07903942e-03\n",
      "   4.10147049e-02  2.02693790e-02  3.06395590e-02 -2.75871158e-02\n",
      "  -2.45514661e-02 -1.41873267e-02 -3.21352445e-02 -1.77465882e-02\n",
      "  -2.05304800e-03 -1.61060933e-02 -3.45800109e-02  8.33350234e-03\n",
      "   2.14032326e-02 -2.08180379e-02 -2.56199315e-02 -1.45230135e-02\n",
      "  -2.77558565e-02 -1.39433788e-02 -1.97457876e-02 -1.14914058e-02\n",
      "   8.88885837e-03  1.91908777e-02 -2.59368960e-02 -2.48087551e-02\n",
      "  -2.75047421e-02 -1.90215353e-02 -3.09680104e-02 -3.20497639e-02\n",
      "   3.52233686e-02 -4.98054828e-03 -3.67284268e-02 -3.57494131e-02\n",
      "  -8.19667149e-03 -1.62088883e-03  4.30321246e-02  4.37048301e-02\n",
      "  -2.37326622e-02 -3.00583467e-02  1.58953797e-02 -1.22690964e-02\n",
      "   3.55555899e-02 -1.72020141e-02  3.62120122e-02  3.45804095e-02\n",
      "  -2.97284052e-02  1.73217449e-02  2.69177351e-02  2.39930805e-02\n",
      "   7.61035271e-03  2.22080927e-02  3.41851674e-02 -3.76845822e-02\n",
      "   1.13074027e-03 -2.42236182e-02 -1.60463471e-02 -4.37498745e-03\n",
      "  -7.83766992e-03 -2.36812476e-02  1.65752950e-03  4.00696648e-03\n",
      "  -3.94643135e-02 -1.10029746e-02  6.75584422e-03 -2.25022566e-02]\n",
      " [ 4.00280254e-03  2.08667126e-02 -3.04318592e-02  3.42377840e-04\n",
      "   2.14920323e-02 -7.60441553e-03  3.78269553e-02 -1.23841902e-02\n",
      "   1.55429048e-02 -2.04324741e-02  4.87729646e-02  2.87460964e-02\n",
      "   8.33935477e-03 -7.43390108e-03  1.64289419e-02 -2.10694782e-02\n",
      "  -4.90140589e-03  3.91360410e-02  3.21871601e-02  2.01936308e-02\n",
      "  -1.24000711e-02 -2.11694278e-02 -1.53830610e-02 -1.47022889e-03\n",
      "  -2.40348349e-03 -2.63991840e-02 -3.94099504e-02  3.99233587e-02\n",
      "  -4.22890671e-02 -6.37348602e-03  2.79353373e-02 -2.33764146e-02\n",
      "  -1.30655495e-02 -2.39247568e-02  3.64227444e-02  8.48858617e-04\n",
      "   3.82600762e-02  1.89482253e-02  2.84232274e-02 -2.60567553e-02\n",
      "  -2.28399858e-02 -1.34806503e-02 -3.00195850e-02 -1.64015293e-02\n",
      "  -1.94942590e-03 -1.50471888e-02 -3.18122208e-02  7.55366776e-03\n",
      "   2.00530458e-02 -1.89877022e-02 -2.39258129e-02 -1.36631168e-02\n",
      "  -2.57660337e-02 -1.31314201e-02 -1.84726063e-02 -1.05788801e-02\n",
      "   8.47068615e-03  1.75784305e-02 -2.42097601e-02 -2.33480539e-02\n",
      "  -2.54298113e-02 -1.76656414e-02 -2.91433912e-02 -3.00288294e-02\n",
      "   3.29675116e-02 -4.50519938e-03 -3.42440046e-02 -3.32685746e-02\n",
      "  -7.43021956e-03 -1.49553479e-03  4.01410721e-02  4.09160778e-02\n",
      "  -2.21400727e-02 -2.81970520e-02  1.43487100e-02 -1.17062489e-02\n",
      "   3.33102420e-02 -1.62054859e-02  3.39145362e-02  3.24089862e-02\n",
      "  -2.77513228e-02  1.62597168e-02  2.47674789e-02  2.23037358e-02\n",
      "   7.05097150e-03  2.06026398e-02  3.18371803e-02 -3.51550244e-02\n",
      "   1.04429654e-03 -2.24355198e-02 -1.49402274e-02 -3.81566258e-03\n",
      "  -7.86259305e-03 -2.16453020e-02  1.67723489e-03  3.73124564e-03\n",
      "  -3.68557610e-02 -9.92363598e-03  6.38368586e-03 -2.11569741e-02]\n",
      " [ 6.57044025e-03  2.49662064e-02 -3.76589783e-02 -2.89819879e-03\n",
      "   2.74290331e-02 -9.36110597e-03  4.47074696e-02 -1.65936816e-02\n",
      "   2.00594869e-02 -2.63893902e-02  5.80261648e-02  3.66726704e-02\n",
      "   1.07104108e-02 -9.31591727e-03  1.99965406e-02 -2.53381357e-02\n",
      "  -9.63903219e-03  4.48506884e-02  4.03694138e-02  2.04309952e-02\n",
      "  -1.24594402e-02 -2.77559627e-02 -2.21488141e-02  9.90300905e-04\n",
      "  -6.02708198e-03 -3.28298807e-02 -4.63427044e-02  4.41166162e-02\n",
      "  -4.76356745e-02 -8.03150237e-03  3.48468795e-02 -3.23880836e-02\n",
      "  -1.63365752e-02 -2.70666238e-02  4.68165688e-02 -6.94812770e-05\n",
      "   4.78236899e-02  2.26983670e-02  3.25347334e-02 -3.38414647e-02\n",
      "  -2.71604229e-02 -1.87895615e-02 -3.81691344e-02 -1.75299868e-02\n",
      "  -2.66284356e-03 -1.85930040e-02 -3.40070613e-02  7.62056559e-03\n",
      "   2.48421840e-02 -1.93693731e-02 -2.85251923e-02 -1.83941070e-02\n",
      "  -3.00159082e-02 -1.62195396e-02 -2.42767986e-02 -1.16292043e-02\n",
      "   1.19714979e-02  1.89933497e-02 -3.02748289e-02 -3.14024426e-02\n",
      "  -2.98197493e-02 -2.07642633e-02 -3.86578962e-02 -3.92830558e-02\n",
      "   4.16153409e-02 -4.19762265e-03 -4.25797887e-02 -3.88661362e-02\n",
      "  -7.16871815e-03 -1.86499336e-03  4.77318279e-02  5.02947606e-02\n",
      "  -2.70846225e-02 -3.56842093e-02  1.35493251e-02 -1.60822775e-02\n",
      "   4.25353013e-02 -2.26346273e-02  4.42858748e-02  4.17453684e-02\n",
      "  -3.40954997e-02  2.06547026e-02  2.70465799e-02  2.66552195e-02\n",
      "   8.80462304e-03  2.33363546e-02  3.97816114e-02 -4.53725755e-02\n",
      "   1.16707152e-03 -2.62675546e-02 -1.81607325e-02 -2.01404421e-03\n",
      "  -1.48399575e-02 -2.32143421e-02  3.41814314e-03  4.91486304e-03\n",
      "  -4.70974110e-02 -8.68571177e-03  8.98298994e-03 -2.68422738e-02]\n",
      " [ 7.77597213e-03  2.90615335e-02 -4.37869318e-02 -3.35901394e-03\n",
      "   3.21348645e-02 -1.09153977e-02  5.17317019e-02 -1.93759743e-02\n",
      "   2.36166343e-02 -3.05180419e-02  6.72922656e-02  4.29545119e-02\n",
      "   1.23632373e-02 -1.07467920e-02  2.31508035e-02 -2.93598436e-02\n",
      "  -1.11500798e-02  5.18240258e-02  4.70901802e-02  2.34881490e-02\n",
      "  -1.45048099e-02 -3.21621336e-02 -2.56594121e-02  9.64943611e-04\n",
      "  -6.75066840e-03 -3.78323793e-02 -5.39471246e-02  5.13882115e-02\n",
      "  -5.46715632e-02 -9.43745580e-03  4.06422950e-02 -3.78504656e-02\n",
      "  -1.88934300e-02 -3.14666331e-02  5.44664972e-02  1.11409943e-04\n",
      "   5.56583032e-02  2.62793265e-02  3.75765115e-02 -3.88049260e-02\n",
      "  -3.15933824e-02 -2.16824543e-02 -4.44535688e-02 -2.01581251e-02\n",
      "  -3.02408403e-03 -2.16181446e-02 -3.95671986e-02  9.01338458e-03\n",
      "   2.87841801e-02 -2.28468943e-02 -3.28536406e-02 -2.15482209e-02\n",
      "  -3.48013788e-02 -1.85548738e-02 -2.83675920e-02 -1.35539994e-02\n",
      "   1.37715125e-02  2.24344507e-02 -3.53845358e-02 -3.64586189e-02\n",
      "  -3.48522067e-02 -2.41963938e-02 -4.48019691e-02 -4.55617458e-02\n",
      "   4.81382832e-02 -4.94036172e-03 -4.94510159e-02 -4.48275767e-02\n",
      "  -8.38217977e-03 -2.22690008e-03  5.49154468e-02  5.77236190e-02\n",
      "  -3.13195437e-02 -4.12617326e-02  1.58881340e-02 -1.84854846e-02\n",
      "   4.90525961e-02 -2.64658891e-02  5.13963141e-02  4.86422740e-02\n",
      "  -3.95886749e-02  2.39389744e-02  3.15050781e-02  3.08332145e-02\n",
      "   1.04677845e-02  2.67238189e-02  4.61526625e-02 -5.30292653e-02\n",
      "   1.39698049e-03 -3.03968526e-02 -2.10011266e-02 -2.35406868e-03\n",
      "  -1.71001330e-02 -2.73369607e-02  3.94250732e-03  5.83518064e-03\n",
      "  -5.50262406e-02 -1.01214191e-02  1.04346005e-02 -3.07871494e-02]\n",
      " [ 9.20517277e-03  3.50840315e-02 -5.32812588e-02 -3.93727142e-03\n",
      "   3.90762836e-02 -1.32229533e-02  6.24221079e-02 -2.34817695e-02\n",
      "   2.92890463e-02 -3.69631164e-02  8.26367289e-02  5.34709878e-02\n",
      "   1.49229150e-02 -1.29685588e-02  2.87120491e-02 -3.56833600e-02\n",
      "  -1.33470315e-02  6.19648658e-02  5.73230572e-02  2.90230326e-02\n",
      "  -1.79560948e-02 -3.85433510e-02 -3.06736007e-02  1.14025979e-03\n",
      "  -8.02308042e-03 -4.60311472e-02 -6.53199181e-02  6.23915605e-02\n",
      "  -6.66793138e-02 -1.16830645e-02  4.95568179e-02 -4.67410237e-02\n",
      "  -2.28289198e-02 -3.84094007e-02  6.73470795e-02  2.68947508e-04\n",
      "   6.82013109e-02  3.13187614e-02  4.54602689e-02 -4.67954911e-02\n",
      "  -3.81611958e-02 -2.64439806e-02 -5.46746403e-02 -2.41341796e-02\n",
      "  -3.65909841e-03 -2.61501148e-02 -4.78011966e-02  1.12720719e-02\n",
      "   3.45810056e-02 -2.77963113e-02 -3.95134911e-02 -2.62171626e-02\n",
      "  -4.20673080e-02 -2.21803170e-02 -3.49974893e-02 -1.65678822e-02\n",
      "   1.66259836e-02  2.73831431e-02 -4.28622738e-02 -4.48248088e-02\n",
      "  -4.30184118e-02 -2.92513203e-02 -5.48344851e-02 -5.63525707e-02\n",
      "   5.89615405e-02 -6.04636548e-03 -6.08543679e-02 -5.40929101e-02\n",
      "  -1.04210917e-02 -2.73417961e-03  6.62920624e-02  7.01000467e-02\n",
      "  -3.82391401e-02 -5.01664728e-02  2.01163236e-02 -2.19917409e-02\n",
      "   6.03106022e-02 -3.25420499e-02  6.33976161e-02  5.92480376e-02\n",
      "  -4.78714220e-02  2.87858043e-02  3.84593457e-02  3.77739407e-02\n",
      "   1.28695713e-02  3.25897858e-02  5.74334748e-02 -6.55883029e-02\n",
      "   1.69637881e-03 -3.75385284e-02 -2.57882830e-02 -3.04493401e-03\n",
      "  -2.04401184e-02 -3.38871703e-02  4.79462277e-03  7.17186835e-03\n",
      "  -6.77189305e-02 -1.23669254e-02  1.29077276e-02 -3.74124870e-02]\n",
      " [ 5.04780700e-03  3.01309470e-02 -4.35234047e-02  2.17891950e-03\n",
      "   3.09085753e-02 -1.08703161e-02  5.44165373e-02 -1.72471572e-02\n",
      "   2.27065943e-02 -2.84368694e-02  7.05139041e-02  4.18306366e-02\n",
      "   1.14460494e-02 -1.05154458e-02  2.37923153e-02 -3.02560143e-02\n",
      "  -5.07879537e-03  5.68807423e-02  4.64406423e-02  3.07122674e-02\n",
      "  -1.92591716e-02 -2.90259719e-02 -2.01321337e-02 -3.71668790e-03\n",
      "  -1.64098758e-03 -3.72144394e-02 -5.80048300e-02  6.01332672e-02\n",
      "  -6.09740205e-02 -9.46148112e-03  4.00967412e-02 -3.28077190e-02\n",
      "  -1.85603295e-02 -3.56843695e-02  5.24240732e-02  2.29380140e-03\n",
      "   5.48964851e-02  2.69467384e-02  4.14063074e-02 -3.52493189e-02\n",
      "  -3.34530212e-02 -1.75668746e-02 -4.30691540e-02 -2.43233331e-02\n",
      "  -2.54268805e-03 -2.17301846e-02 -4.83506843e-02  1.21932840e-02\n",
      "   2.81880684e-02 -2.98529156e-02 -3.37765701e-02 -1.92567762e-02\n",
      "  -3.79064940e-02 -1.77682936e-02 -2.65635140e-02 -1.60296988e-02\n",
      "   1.14152320e-02  2.74303127e-02 -3.52458358e-02 -3.23206261e-02\n",
      "  -3.76900807e-02 -2.59039998e-02 -4.02905606e-02 -4.24933918e-02\n",
      "   4.63048033e-02 -7.32228439e-03 -4.91261408e-02 -4.77097705e-02\n",
      "  -1.17011499e-02 -2.33419635e-03  5.63293137e-02  5.66387288e-02\n",
      "  -3.15426365e-02 -3.98417935e-02  2.31810398e-02 -1.52613418e-02\n",
      "   4.65817116e-02 -2.28837766e-02  4.78979200e-02  4.60446253e-02\n",
      "  -4.02929448e-02  2.30126381e-02  3.75828147e-02  3.20539773e-02\n",
      "   1.07068047e-02  2.97554899e-02  4.61226478e-02 -5.08862697e-02\n",
      "   1.70165126e-03 -3.29520851e-02 -2.16033086e-02 -7.03671901e-03\n",
      "  -8.33436754e-03 -3.39104645e-02  1.62819889e-03  5.49890706e-03\n",
      "  -5.31187542e-02 -1.60206631e-02  8.75841361e-03 -2.90374495e-02]\n",
      " [ 2.80371308e-03  2.39549056e-02 -3.42823640e-02  3.40825389e-03\n",
      "   2.36816145e-02 -8.55733920e-03  4.39166874e-02 -1.27028106e-02\n",
      "   1.74929779e-02 -2.19642706e-02  5.74087612e-02  3.26720625e-02\n",
      "   8.82849470e-03 -8.24979879e-03  1.93505734e-02 -2.44025644e-02\n",
      "  -2.16687284e-03  4.65730652e-02  3.60979550e-02  2.70553231e-02\n",
      "  -1.67210028e-02 -2.18348354e-02 -1.39922015e-02 -4.11200337e-03\n",
      "   4.30965119e-05 -2.98568141e-02 -4.65207919e-02  5.00066020e-02\n",
      "  -5.16737662e-02 -7.33017782e-03  3.13647650e-02 -2.42264699e-02\n",
      "  -1.45343738e-02 -2.95933932e-02  4.09482159e-02  2.13905377e-03\n",
      "   4.31579165e-02  2.13987939e-02  3.43224555e-02 -2.75189616e-02\n",
      "  -2.68543959e-02 -1.29416576e-02 -3.36401947e-02 -2.07002033e-02\n",
      "  -1.98668102e-03 -1.70229562e-02 -4.07018922e-02  1.04112560e-02\n",
      "   2.21145824e-02 -2.51784138e-02 -2.74344683e-02 -1.41794793e-02\n",
      "  -3.09419595e-02 -1.41644832e-02 -2.02523340e-02 -1.33252386e-02\n",
      "   8.39008298e-03  2.25467123e-02 -2.73313317e-02 -2.45409161e-02\n",
      "  -3.05227749e-02 -2.07511541e-02 -3.07961628e-02 -3.30338366e-02\n",
      "   3.66739333e-02 -6.37482200e-03 -3.89554352e-02 -3.91469784e-02\n",
      "  -1.03296470e-02 -1.79292960e-03  4.61720228e-02  4.59170751e-02\n",
      "  -2.53467336e-02 -3.11035588e-02  2.04885155e-02 -1.12332469e-02\n",
      "   3.69912498e-02 -1.67465322e-02  3.73277962e-02  3.52538861e-02\n",
      "  -3.18367258e-02  1.77338757e-02  3.13445330e-02  2.62041092e-02\n",
      "   8.18103552e-03  2.52436716e-02  3.68764661e-02 -3.94987874e-02\n",
      "   1.35467981e-03 -2.72853039e-02 -1.74433067e-02 -6.93354011e-03\n",
      "  -3.92063381e-03 -2.84030568e-02  6.67307118e-04  4.11814125e-03\n",
      "  -4.11032066e-02 -1.45108141e-02  6.49434328e-03 -2.32227817e-02]\n",
      " [ 3.37999826e-03  2.20867805e-02 -3.23666930e-02  1.31814554e-03\n",
      "   2.24156864e-02 -7.98107777e-03  4.07324322e-02 -1.26374783e-02\n",
      "   1.65006630e-02 -2.16782317e-02  5.31261265e-02  3.08810640e-02\n",
      "   8.78764316e-03 -7.96115026e-03  1.81237813e-02 -2.28056535e-02\n",
      "  -4.08581458e-03  4.23674844e-02  3.41350101e-02  2.34039128e-02\n",
      "  -1.41908992e-02 -2.18866020e-02 -1.52654052e-02 -1.98294874e-03\n",
      "  -1.98395154e-03 -2.84773614e-02 -4.28185686e-02  4.39787768e-02\n",
      "  -4.70062606e-02 -6.83883205e-03  2.95677595e-02 -2.44970936e-02\n",
      "  -1.39680114e-02 -2.63923388e-02  3.94308567e-02  1.16966490e-03\n",
      "   4.09106128e-02  1.99858062e-02  3.11566815e-02 -2.75561661e-02\n",
      "  -2.47070435e-02 -1.35465413e-02 -3.22675332e-02 -1.83114149e-02\n",
      "  -2.06820853e-03 -1.60300322e-02 -3.53685804e-02  8.68976582e-03\n",
      "   2.10771170e-02 -2.10268702e-02 -2.56509837e-02 -1.40223801e-02\n",
      "  -2.81774122e-02 -1.38164703e-02 -1.96403023e-02 -1.17361741e-02\n",
      "   8.91877711e-03  1.93546172e-02 -2.56750137e-02 -2.45451778e-02\n",
      "  -2.77298409e-02 -1.88894495e-02 -3.06240655e-02 -3.24055739e-02\n",
      "   3.53705995e-02 -5.16057201e-03 -3.70207727e-02 -3.60874273e-02\n",
      "  -8.56686756e-03 -1.61816482e-03  4.29448709e-02  4.39597853e-02\n",
      "  -2.39468832e-02 -3.02223489e-02  1.70335807e-02 -1.18887937e-02\n",
      "   3.59674208e-02 -1.68216676e-02  3.62778567e-02  3.41851525e-02\n",
      "  -2.99023204e-02  1.71069317e-02  2.75217127e-02  2.43228041e-02\n",
      "   7.48099992e-03  2.31188610e-02  3.51964459e-02 -3.77191715e-02\n",
      "   1.24807889e-03 -2.50593666e-02 -1.63790863e-02 -5.07176388e-03\n",
      "  -6.79925736e-03 -2.45159362e-02  1.37698220e-03  3.91897466e-03\n",
      "  -3.93780470e-02 -1.16363838e-02  6.67953538e-03 -2.27257796e-02]]\n"
     ]
    }
   ],
   "source": [
    "with tf.Session() as sess:\n",
    "    sess.run(tf.global_variables_initializer())\n",
    "    writer = tf.summary.FileWriter('.', sess.graph)\n",
    "    out, sta = sess.run([output, state])\n",
    "    print(out.shape, sta.h)"
   ]
  },
  {
   "cell_type": "code",
   "execution_count": null,
   "metadata": {},
   "outputs": [],
   "source": []
  },
  {
   "cell_type": "code",
   "execution_count": 13,
   "metadata": {},
   "outputs": [],
   "source": [
    "# hyperparameter\n",
    "num_layers = 2\n",
    "sequence_length_encoder = 8 # T\n",
    "sequence_length_decoder = 4 # F\n"
   ]
  },
  {
   "cell_type": "code",
   "execution_count": 14,
   "metadata": {},
   "outputs": [
    {
     "name": "stdout",
     "output_type": "stream",
     "text": [
      "(91, 9) (92, 8)\n"
     ]
    }
   ],
   "source": [
    "# prepare data\n",
    "data = list(range(1,100,1))\n",
    "df_encode = series_to_suppervised(data=data, n_in=sequence_length_encoder)\n",
    "df_decode = series_to_suppervised(data=data, n_in=sequence_length_decoder, n_out=sequence_length_decoder)\n",
    "\n",
    "print(df_encode.shape, df_decode.shape)"
   ]
  },
  {
   "cell_type": "code",
   "execution_count": 15,
   "metadata": {},
   "outputs": [
    {
     "name": "stdout",
     "output_type": "stream",
     "text": [
      "(91, 8, 1) (91, 1)\n"
     ]
    }
   ],
   "source": [
    "x_encode = df_encode.iloc[:, :sequence_length_encoder].values\n",
    "y_encode = df_encode.iloc[:, sequence_length_encoder:].values\n",
    "x_encode = np.reshape(x_encode, (x_encode.shape[0], x_encode.shape[1], 1))\n",
    "print(x_encode.shape, y_encode.shape)"
   ]
  },
  {
   "cell_type": "code",
   "execution_count": 16,
   "metadata": {},
   "outputs": [],
   "source": [
    "def build_encoder(layers):\n",
    "    cells = []\n",
    "    for i in range(len(layers)):\n",
    "        cells.append(tf.contrib.rnn.LSTMCell(num_units=layers[i]))\n",
    "    model = tf.contrib.rnn.MultiRNNCell(cells=cells)\n",
    "    return model\n",
    "\n",
    "def fit_encoder(cell, inputs, initial_state):\n",
    "    output, state = tf.nn.dynamic_rnn(cell=cell, inputs=inputs, dtype=tf.float32)\n",
    "    return output, state"
   ]
  },
  {
   "cell_type": "code",
   "execution_count": 17,
   "metadata": {
    "scrolled": true
   },
   "outputs": [],
   "source": [
    "layers = [10]\n",
    "tf.reset_default_graph()\n",
    "x = tf.constant(dtype=tf.float32, value=x_encode)\n",
    "encoder=build_encoder(layers=layers)\n",
    "init_state = tf.zeros(dtype=tf.float32, shape=())\n",
    "output, state = fit_encoder(encoder, x, init_state)\n",
    "\n",
    "with tf.Session() as sess:\n",
    "    sess.run(tf.global_variables_initializer())\n",
    "    writer = tf.summary.FileWriter('.', sess.graph)\n"
   ]
  },
  {
   "cell_type": "code",
   "execution_count": null,
   "metadata": {},
   "outputs": [],
   "source": []
  }
 ],
 "metadata": {
  "kernelspec": {
   "display_name": "Python 3",
   "language": "python",
   "name": "python3"
  },
  "language_info": {
   "codemirror_mode": {
    "name": "ipython",
    "version": 3
   },
   "file_extension": ".py",
   "mimetype": "text/x-python",
   "name": "python",
   "nbconvert_exporter": "python",
   "pygments_lexer": "ipython3",
   "version": "3.6.6rc1"
  }
 },
 "nbformat": 4,
 "nbformat_minor": 2
}
