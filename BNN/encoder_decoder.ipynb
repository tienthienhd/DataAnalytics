{
 "cells": [
  {
   "cell_type": "code",
   "execution_count": 13,
   "metadata": {},
   "outputs": [],
   "source": [
    "import tensorflow as tf\n",
    "import numpy as np\n",
    "import pandas as pd"
   ]
  },
  {
   "cell_type": "code",
   "execution_count": 14,
   "metadata": {},
   "outputs": [],
   "source": [
    "def lstm_cell(lstm_size, dropout):\n",
    "    single_cell = tf.nn.rnn_cell.LSTMCell(lstm_size)\n",
    "    single_cell = tf.nn.rnn_cell.DropoutWrapper(single_cell, output_keep_prob=1-dropout)\n",
    "    return single_cell"
   ]
  },
  {
   "cell_type": "code",
   "execution_count": 15,
   "metadata": {},
   "outputs": [],
   "source": [
    "#convert series to supervised learning\n",
    "def series_to_suppervised(data, n_in=1, n_out=1, dropnan=True):\n",
    "    n_vars = 1 if type(data) is list else data.shape[1]\n",
    "    df = pd.DataFrame(data)\n",
    "    cols, names = list(), list()\n",
    "    # input sequence (t-n...t-1)\n",
    "    for i in range(n_in, 0, -1):\n",
    "        cols.append(df.shift(i))\n",
    "        names += [('var%d(t-%d)' % (j+1, i)) for j in range(n_vars)]\n",
    "    # forecast sequence (t, t+1,...t+n)\n",
    "    for i in range(0, n_out):\n",
    "        cols.append(df.shift(-i))\n",
    "        if i == 0:\n",
    "            names += [('var%d(t)' % (j+1)) for j in range(n_vars)]\n",
    "        else:\n",
    "            names += [('var%d(t+%d)' % (j+1, i)) for j in range(n_vars)]\n",
    "    # put it all together\n",
    "    agg = pd.concat(cols, axis=1)\n",
    "    agg.columns = names\n",
    "    # drop rows with Nan values\n",
    "    if(dropnan):\n",
    "        agg.dropna(inplace=True)\n",
    "    return agg\n"
   ]
  },
  {
   "cell_type": "code",
   "execution_count": 16,
   "metadata": {},
   "outputs": [
    {
     "data": {
      "image/png": "[encoded data removed]",
      "text/plain": [
       "<Figure size 432x288 with 1 Axes>"
      ]
     },
     "metadata": {},
     "output_type": "display_data"
    }
   ],
   "source": [
    "dataset = pd.read_csv('cpu.csv', header=None, names=['cpu'])\n",
    "dataset.plot()\n",
    "dataset = dataset.values"
   ]
  },
  {
   "cell_type": "code",
   "execution_count": 17,
   "metadata": {},
   "outputs": [
    {
     "name": "stdout",
     "output_type": "stream",
     "text": [
      "   var1(t-5)  var1(t-4)  var1(t-3)  var1(t-2)  var1(t-1)   var1(t)\n",
      "5   0.668381   0.668381   0.739129   0.739129   0.558318  0.539101\n",
      "6   0.668381   0.739129   0.739129   0.558318   0.539101  0.539101\n",
      "7   0.739129   0.739129   0.558318   0.539101   0.539101  0.959187\n",
      "8   0.739129   0.558318   0.539101   0.539101   0.959187  0.959187\n",
      "9   0.558318   0.539101   0.539101   0.959187   0.959187  1.210667\n",
      "(13915, 5, 1) (13915, 3, 1) (13915, 1, 1)\n"
     ]
    }
   ],
   "source": [
    "state_size = 8\n",
    "batch_size = 4\n",
    "num_layers = 2\n",
    "dropout=0.2\n",
    "num_steps = 5\n",
    "num_features = 1\n",
    "num_output_decoder = 1\n",
    "\n",
    "data = series_to_suppervised(dataset, num_steps, num_output_decoder)\n",
    "print(data.head())\n",
    "x_encoder = data.iloc[:, :num_steps].values\n",
    "x_encoder = np.reshape(x_encoder, [x_encoder.shape[0], x_encoder.shape[1], 1])\n",
    "x_decoder = data.iloc[:, num_steps-3:num_steps].values\n",
    "x_decoder = np.reshape(x_decoder, [x_decoder.shape[0], x_decoder.shape[1], 1])\n",
    "y_ = data.iloc[:, -num_output_decoder:].values\n",
    "y_ = np.reshape(y_, [y_.shape[0], y_.shape[1], 1])\n",
    "print(x_encoder.shape, x_decoder.shape, y_.shape)"
   ]
  },
  {
   "cell_type": "code",
   "execution_count": 18,
   "metadata": {
    "scrolled": true
   },
   "outputs": [
    {
     "name": "stdout",
     "output_type": "stream",
     "text": [
      "(?, 5)\n"
     ]
    }
   ],
   "source": [
    "tf.reset_default_graph()\n",
    "def rnn_cell(num_hidden_units, num_layers, dropout, scope):\n",
    "    with tf.variable_scope(scope):\n",
    "        stacked_cell = [lstm_cell(num_hidden_units, dropout) for _ in range(num_layers)]\n",
    "        stacked_cell = tf.nn.rnn_cell.MultiRNNCell(stacked_cell)\n",
    "    return stacked_cell\n",
    "\n",
    "encoder_inputs = tf.placeholder(tf.float32, shape=[None, num_steps, num_features], name='encoder_inputs')\n",
    "decoder_inputs = tf.placeholder(tf.float32, shape=[None, num_steps, num_features], name='decoder_inputs')\n",
    "y = tf.placeholder(tf.float32, shape=[None, num_output_decoder, num_features])\n",
    "\n",
    "with tf.variable_scope('encoder') as scope:\n",
    "    encoder_stacked_cell = rnn_cell(num_hidden_units=state_size, \n",
    "                                    num_layers=num_layers, \n",
    "                                    dropout=dropout, \n",
    "                                    scope=scope)\n",
    "    encoder_output, encoder_state = tf.nn.dynamic_rnn(cell=encoder_stacked_cell,\n",
    "                                                     inputs=encoder_inputs,\n",
    "                                                     dtype=tf.float32)\n",
    "    \n",
    "with tf.variable_scope('decoder') as scope:\n",
    "    decoder_initial_state = encoder_state \n",
    "    decoder_stacked_cell = rnn_cell(num_hidden_units=state_size, \n",
    "                                    num_layers=num_layers, \n",
    "                                    dropout=dropout, \n",
    "                                    scope=scope)\n",
    "    decoder_output, decoder_state = tf.nn.dynamic_rnn(cell=decoder_stacked_cell,\n",
    "                                                     inputs=decoder_inputs,\n",
    "                                                     dtype=tf.float32,\n",
    "                                                     initial_state=decoder_initial_state)\n",
    "    outputs = tf.reshape(decoder_output, [-1, state_size])\n",
    "    \n",
    "    w = tf.get_variable('w',shape=[state_size, num_steps], initializer=tf.contrib.layers.xavier_initializer())\n",
    "    b = tf.get_variable('b',initializer=tf.random_uniform([num_steps],-0.1,0.1))\n",
    "    \n",
    "    all_outputs = tf.nn.xw_plus_b(outputs, w, b)\n",
    "    print(all_outputs.shape)"
   ]
  },
  {
   "cell_type": "code",
   "execution_count": 1,
   "metadata": {},
   "outputs": [
    {
     "ename": "NameError",
     "evalue": "name 'outputs' is not defined",
     "output_type": "error",
     "traceback": [
      "\u001b[1;31m---------------------------------------------------------------------------\u001b[0m",
      "\u001b[1;31mNameError\u001b[0m                                 Traceback (most recent call last)",
      "\u001b[1;32m<ipython-input-1-f1f3e646ee8d>\u001b[0m in \u001b[0;36m<module>\u001b[1;34m()\u001b[0m\n\u001b[0;32m      1\u001b[0m \u001b[1;31m# define loss\u001b[0m\u001b[1;33m\u001b[0m\u001b[1;33m\u001b[0m\u001b[0m\n\u001b[1;32m----> 2\u001b[1;33m \u001b[0mfinal_output\u001b[0m \u001b[1;33m=\u001b[0m \u001b[0moutputs\u001b[0m\u001b[1;33m[\u001b[0m\u001b[1;33m:\u001b[0m\u001b[1;33m,\u001b[0m \u001b[1;33m-\u001b[0m\u001b[0mnum_output_decoder\u001b[0m\u001b[1;33m]\u001b[0m\u001b[1;33m\u001b[0m\u001b[0m\n\u001b[0m\u001b[0;32m      3\u001b[0m \u001b[0my\u001b[0m \u001b[1;33m=\u001b[0m \u001b[0mtf\u001b[0m\u001b[1;33m.\u001b[0m\u001b[0mreshape\u001b[0m\u001b[1;33m(\u001b[0m\u001b[0my\u001b[0m\u001b[1;33m,\u001b[0m \u001b[1;33m[\u001b[0m\u001b[0my\u001b[0m\u001b[1;33m.\u001b[0m\u001b[0mshape\u001b[0m\u001b[1;33m[\u001b[0m\u001b[1;36m0\u001b[0m\u001b[1;33m]\u001b[0m\u001b[1;33m,\u001b[0m\u001b[1;33m]\u001b[0m\u001b[1;33m)\u001b[0m\u001b[1;33m\u001b[0m\u001b[0m\n\u001b[0;32m      4\u001b[0m \u001b[0mprint\u001b[0m\u001b[1;33m(\u001b[0m\u001b[0mfinal_output\u001b[0m\u001b[1;33m.\u001b[0m\u001b[0mshape\u001b[0m\u001b[1;33m,\u001b[0m \u001b[0my\u001b[0m\u001b[1;33m.\u001b[0m\u001b[0mshape\u001b[0m\u001b[1;33m)\u001b[0m\u001b[1;33m\u001b[0m\u001b[0m\n\u001b[0;32m      5\u001b[0m \u001b[0mloss\u001b[0m \u001b[1;33m=\u001b[0m \u001b[0mtf\u001b[0m\u001b[1;33m.\u001b[0m\u001b[0mreduce_mean\u001b[0m\u001b[1;33m(\u001b[0m\u001b[1;36m0.5\u001b[0m\u001b[1;33m*\u001b[0m\u001b[1;33m(\u001b[0m\u001b[0mfinal_output\u001b[0m\u001b[1;33m-\u001b[0m\u001b[0my\u001b[0m\u001b[1;33m)\u001b[0m\u001b[1;33m**\u001b[0m\u001b[1;36m2\u001b[0m\u001b[1;33m)\u001b[0m\u001b[1;33m\u001b[0m\u001b[0m\n",
      "\u001b[1;31mNameError\u001b[0m: name 'outputs' is not defined"
     ]
    }
   ],
   "source": [
    "# define loss\n",
    "final_output = outputs[:, -num_output_decoder]\n",
    "y = tf.reshape(y, [y.shape[0],])\n",
    "print(final_output.shape, y.shape)\n",
    "loss = tf.reduce_mean(0.5*(final_output-y)**2)\n",
    "tf.summary.scalar('loss', loss)\n",
    "merged = tf.summary.merge_all()\n",
    "\n",
    "optimizer = tf.train.AdamOptimizer(0.001).minimize(loss)"
   ]
  },
  {
   "cell_type": "code",
   "execution_count": null,
   "metadata": {},
   "outputs": [],
   "source": [
    "with tf.Session() as sess:\n",
    "    sess.run(tf.global_variables_initializer())\n",
    "    writer = tf.summary.FileWriter('.', sess.graph)\n",
    "    for i in range(100):\n",
    "        output, _, l, merge = sess.run([final_output, optimizer, loss, merged], feed_dict={encoder_inputs:x_encoder,\n",
    "                                                                        decoder_inputs:x_encoder,\n",
    "                                                                        y:y_})\n",
    "        writer.add_summary(merge)\n",
    "        print('epoch #', i, 'loss=', l)\n",
    "    print('output:', output, 'loss:', l)"
   ]
  }
 ],
 "metadata": {
  "kernelspec": {
   "display_name": "Python 3",
   "language": "python",
   "name": "python3"
  },
  "language_info": {
   "codemirror_mode": {
    "name": "ipython",
    "version": 3
   },
   "file_extension": ".py",
   "mimetype": "text/x-python",
   "name": "python",
   "nbconvert_exporter": "python",
   "pygments_lexer": "ipython3",
   "version": "3.6.6rc1"
  }
 },
 "nbformat": 4,
 "nbformat_minor": 2
}
