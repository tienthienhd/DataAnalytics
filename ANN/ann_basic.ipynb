{
 "cells": [
  {
   "cell_type": "code",
   "execution_count": 1,
   "metadata": {},
   "outputs": [],
   "source": [
    "import tensorflow as tf\n",
    "import pandas as pd\n",
    "import numpy as np\n",
    "import matplotlib.pyplot as plt"
   ]
  },
  {
   "cell_type": "code",
   "execution_count": 2,
   "metadata": {},
   "outputs": [
    {
     "data": {
      "text/plain": [
       "<matplotlib.axes._subplots.AxesSubplot at 0x1b93b320>"
      ]
     },
     "execution_count": 2,
     "metadata": {},
     "output_type": "execute_result"
    },
    {
     "data": {
      "image/png": "[encoded data removed]",
      "text/plain": [
       "<Figure size 432x288 with 1 Axes>"
      ]
     },
     "metadata": {},
     "output_type": "display_data"
    },
    {
     "data": {
      "image/png": "[encoded data removed]",
      "text/plain": [
       "<Figure size 432x288 with 1 Axes>"
      ]
     },
     "metadata": {},
     "output_type": "display_data"
    }
   ],
   "source": [
    "# loading data\n",
    "col_names = ['time_stamp', 'numberOfTaskIndex', 'numberOfMachineId', \n",
    "             'meanCPUUsage', 'canonical_memory_usage', 'AssignMem',\n",
    "             'unmapped_cache_usage', 'page_cache_usage', 'max_mem_usage',\n",
    "             'mean_diskIO_time', 'mean_local_disk_space', 'max_cpu_usage',\n",
    "             'max_disk_io_time', 'cpi', 'mai', 'sampling_portion',\n",
    "             'agg_type', 'sampled_cpu_usage']\n",
    "data = pd.read_csv('F:\\LabDataAnalytics\\data\\google_trace_timeseries\\data_resource_usage_10Minutes_6176858948.csv', header=None, names=col_names)\n",
    "data = data.loc[:,'meanCPUUsage']\n",
    "data.plot()\n",
    "data = data.values\n",
    "\n",
    "min_ = np.amin(data)\n",
    "max_ = np.amax(data)\n",
    "\n",
    "data = (data - min_) / (max_ - min_)\n",
    "\n",
    "# mean = np.mean(data, axis=0)\n",
    "# std = np.std(data, axis=0)\n",
    "\n",
    "# data = (data - mean)/std\n",
    "data = pd.DataFrame(data)\n",
    "data.plot()"
   ]
  },
  {
   "cell_type": "code",
   "execution_count": 3,
   "metadata": {},
   "outputs": [],
   "source": [
    "# split data to training set, validating set, testing set\n",
    "def split_data(data, val_size=0.2, test_size=0.2):\n",
    "    ntest = int(round(len(data) * (1 - test_size)))\n",
    "    nval = int(round(len(data.iloc[:ntest]) * (1 - val_size)))\n",
    " \n",
    "    df_train, df_val, df_test = data.iloc[:nval], data.iloc[nval:ntest], data.iloc[ntest:]\n",
    " \n",
    "    return df_train, df_val, df_test\n",
    "\n",
    "# timeseries to suppervised learning\n",
    "def series_to_suppervised(data, n_in=1, n_out=1, dropnan=True):\n",
    "    n_vars = 1 if type(data) is list else data.shape[1]\n",
    "    df = pd.DataFrame(data)\n",
    "    cols, names = list(), list()\n",
    "    # input sequence (t-n...t-1)\n",
    "    for i in range(n_in, 0, -1):\n",
    "        cols.append(df.shift(i))\n",
    "        names += [('var%d(t-%d)' % (j+1, i)) for j in range(n_vars)]\n",
    "    # forecast sequence (t, t+1,...t+n)\n",
    "    for i in range(0, n_out):\n",
    "        cols.append(df.shift(-i))\n",
    "        if i == 0:\n",
    "            names += [('var%d(t)' % (j+1)) for j in range(n_vars)]\n",
    "        else:\n",
    "            names += [('var%d(t+%d)' % (j+1, i)) for j in range(n_vars)]\n",
    "    # put it all together\n",
    "    agg = pd.concat(cols, axis=1)\n",
    "    agg.columns = names\n",
    "    # drop rows with Nan values\n",
    "    if(dropnan):\n",
    "        agg.dropna(inplace=True)\n",
    "    return agg"
   ]
  },
  {
   "cell_type": "code",
   "execution_count": 8,
   "metadata": {},
   "outputs": [
    {
     "name": "stdout",
     "output_type": "stream",
     "text": [
      "      var1(t-1)   var1(t)\n",
      "2674   0.010805  0.013803\n",
      "2675   0.013803  0.012024\n",
      "2676   0.012024  0.013874\n",
      "2677   0.013874  0.014187\n",
      "2678   0.014187  0.008868\n"
     ]
    }
   ],
   "source": [
    "# split data\n",
    "train_set, val_set, test_set = split_data(data)\n",
    "\n",
    "train_set = series_to_suppervised(train_set)\n",
    "val_set = series_to_suppervised(val_set)\n",
    "test_set = series_to_suppervised(test_set)\n",
    "\n",
    "print(val_set.head())\n",
    "\n",
    "x_train, y_train = train_set.iloc[:, 0].values, train_set.iloc[:, 1].values\n",
    "x_val, y_val = val_set.iloc[:, 0].values, val_set.iloc[:, 1].values\n",
    "x_test, y_test = test_set.iloc[:, 0].values, test_set.iloc[:, 1].values\n",
    "\n",
    "# x_test = x_test * (max_ - min_) + min_\n",
    "y_test = y_test * (max_ - min_) + min_\n",
    "\n",
    "x_train = x_train.reshape([x_train.shape[0],1])\n",
    "x_val = x_val.reshape([x_val.shape[0],1])\n",
    "x_test = x_test.reshape([x_test.shape[0],1])\n",
    "\n",
    "\n"
   ]
  },
  {
   "cell_type": "code",
   "execution_count": 28,
   "metadata": {
    "scrolled": true
   },
   "outputs": [
    {
     "name": "stdout",
     "output_type": "stream",
     "text": [
      "epoch # 0 loss= 0.0017523464 val_loss= 0.0045407237\n",
      "epoch # 1 loss= 0.0015840173 val_loss= 0.004460166\n",
      "epoch # 2 loss= 0.0014878351 val_loss= 0.0044337\n",
      "epoch # 3 loss= 0.0014546094 val_loss= 0.0044442555\n",
      "epoch # 4 loss= 0.0014638101 val_loss= 0.0044678166\n",
      "epoch # 5 loss= 0.0014891917 val_loss= 0.0044821627\n",
      "epoch # 6 loss= 0.0015080251 val_loss= 0.004477488\n",
      "epoch # 7 loss= 0.001510018 val_loss= 0.004455853\n",
      "epoch # 8 loss= 0.0014965218 val_loss= 0.0044248737\n",
      "epoch # 9 loss= 0.001474678 val_loss= 0.0043928353\n",
      "epoch # 10 loss= 0.0014522431 val_loss= 0.004366149\n",
      "epoch # 11 loss= 0.0014350807 val_loss= 0.0043481905\n",
      "epoch # 12 loss= 0.0014261168 val_loss= 0.004339188\n",
      "epoch # 13 loss= 0.0014253673 val_loss= 0.004336558\n",
      "epoch # 14 loss= 0.0014299072 val_loss= 0.004336448\n",
      "epoch # 15 loss= 0.0014356163 val_loss= 0.0043353955\n",
      "epoch # 16 loss= 0.001439118 val_loss= 0.0043314598\n",
      "epoch # 17 loss= 0.0014384512 val_loss= 0.0043246318\n",
      "epoch # 18 loss= 0.0014337325 val_loss= 0.004316349\n",
      "epoch # 19 loss= 0.0014266329 val_loss= 0.0043085925\n",
      "epoch # 20 loss= 0.0014192908 val_loss= 0.0043030577\n",
      "epoch # 21 loss= 0.0014134606 val_loss= 0.0043006646\n",
      "epoch # 22 loss= 0.0014105596 val_loss= 0.0043011936\n",
      "epoch # 23 loss= 0.0014106535 val_loss= 0.004303425\n",
      "epoch # 24 loss= 0.0014125546 val_loss= 0.0043057874\n",
      "epoch # 25 loss= 0.0014148515 val_loss= 0.0043068095\n",
      "epoch # 26 loss= 0.0014162959 val_loss= 0.0043057427\n",
      "epoch # 27 loss= 0.0014160987 val_loss= 0.004302615\n",
      "epoch # 28 loss= 0.0014142592 val_loss= 0.0042982134\n",
      "epoch # 29 loss= 0.0014114527 val_loss= 0.00429357\n",
      "epoch # 30 loss= 0.0014086318 val_loss= 0.0042896923\n",
      "epoch # 31 loss= 0.0014066454 val_loss= 0.004287079\n",
      "epoch # 32 loss= 0.0014057594 val_loss= 0.00428591\n",
      "epoch # 33 loss= 0.0014060246 val_loss= 0.0042856494\n",
      "epoch # 34 loss= 0.0014069256 val_loss= 0.0042858543\n",
      "epoch # 35 loss= 0.0014079995 val_loss= 0.0042860424\n",
      "epoch # 36 loss= 0.0014084567 val_loss= 0.004285887\n",
      "epoch # 37 loss= 0.0014081659 val_loss= 0.0042855907\n",
      "epoch # 38 loss= 0.0014072051 val_loss= 0.0042856312\n",
      "epoch # 39 loss= 0.0014063322 val_loss= 0.004285686\n",
      "epoch # 40 loss= 0.0014054031 val_loss= 0.0042865775\n",
      "epoch # 41 loss= 0.0014054672 val_loss= 0.004287913\n",
      "epoch # 42 loss= 0.0014058283 val_loss= 0.004289169\n",
      "epoch # 43 loss= 0.0014065352 val_loss= 0.004290287\n",
      "epoch # 44 loss= 0.0014070342 val_loss= 0.004290785\n",
      "epoch # 45 loss= 0.0014072715 val_loss= 0.0042905863\n",
      "epoch # 46 loss= 0.0014071644 val_loss= 0.0042898115\n",
      "epoch # 47 loss= 0.0014068192 val_loss= 0.0042888615\n",
      "epoch # 48 loss= 0.0014062875 val_loss= 0.004287965\n",
      "epoch # 49 loss= 0.0014058105 val_loss= 0.0042871544\n",
      "epoch # 50 loss= 0.0014056371 val_loss= 0.004286732\n",
      "epoch # 51 loss= 0.0014057208 val_loss= 0.004286399\n",
      "epoch # 52 loss= 0.001405691 val_loss= 0.00428629\n",
      "epoch # 53 loss= 0.0014058499 val_loss= 0.0042862636\n",
      "epoch # 54 loss= 0.0014058831 val_loss= 0.0042862226\n",
      "epoch # 55 loss= 0.0014056994 val_loss= 0.004286373\n",
      "epoch # 56 loss= 0.001405642 val_loss= 0.0042866915\n",
      "epoch # 57 loss= 0.0014056609 val_loss= 0.0042869854\n",
      "epoch # 58 loss= 0.001405569 val_loss= 0.004287467\n",
      "epoch # 59 loss= 0.0014056102 val_loss= 0.0042878604\n",
      "epoch # 60 loss= 0.0014057909 val_loss= 0.004288096\n",
      "epoch # 61 loss= 0.0014058738 val_loss= 0.004288136\n",
      "epoch # 62 loss= 0.0014059144 val_loss= 0.0042879526\n",
      "epoch # 63 loss= 0.0014058333 val_loss= 0.004287609\n",
      "epoch # 64 loss= 0.0014057138 val_loss= 0.0042871875\n",
      "epoch # 65 loss= 0.0014055242 val_loss= 0.0042867074\n",
      "epoch # 66 loss= 0.0014054442 val_loss= 0.004286384\n",
      "epoch # 67 loss= 0.0014054541 val_loss= 0.0042861765\n",
      "epoch # 68 loss= 0.0014054953 val_loss= 0.004286007\n",
      "epoch # 69 loss= 0.0014054342 val_loss= 0.0042859316\n",
      "epoch # 70 loss= 0.0014054169 val_loss= 0.004285975\n",
      "epoch # 71 loss= 0.001405415 val_loss= 0.0042860867\n",
      "epoch # 72 loss= 0.0014054625 val_loss= 0.0042862357\n",
      "epoch # 73 loss= 0.0014054452 val_loss= 0.0042863837\n",
      "epoch # 74 loss= 0.0014054015 val_loss= 0.0042866278\n",
      "epoch # 75 loss= 0.0014054101 val_loss= 0.004286843\n",
      "epoch # 76 loss= 0.0014054818 val_loss= 0.004286997\n",
      "epoch # 77 loss= 0.0014054878 val_loss= 0.0042870077\n",
      "epoch # 78 loss= 0.0014054864 val_loss= 0.0042868755\n",
      "epoch # 79 loss= 0.0014055012 val_loss= 0.0042866445\n",
      "epoch # 80 loss= 0.0014053843 val_loss= 0.004286382\n",
      "epoch # 81 loss= 0.0014053913 val_loss= 0.004286295\n",
      "epoch # 82 loss= 0.00140537 val_loss= 0.0042862226\n",
      "epoch # 83 loss= 0.0014054452 val_loss= 0.004286174\n",
      "epoch # 84 loss= 0.0014054902 val_loss= 0.004286135\n",
      "epoch # 85 loss= 0.0014054718 val_loss= 0.004286157\n",
      "epoch # 86 loss= 0.0014054818 val_loss= 0.004286218\n",
      "epoch # 87 loss= 0.0014054335 val_loss= 0.0042863013\n",
      "epoch # 88 loss= 0.0014054335 val_loss= 0.004286341\n",
      "epoch # 89 loss= 0.0014053814 val_loss= 0.0042864457\n",
      "epoch # 90 loss= 0.0014053895 val_loss= 0.004286466\n",
      "epoch # 91 loss= 0.0014054199 val_loss= 0.004286583\n",
      "epoch # 92 loss= 0.0014054239 val_loss= 0.004286572\n",
      "epoch # 93 loss= 0.0014054234 val_loss= 0.004286447\n",
      "epoch # 94 loss= 0.0014054065 val_loss= 0.0042864494\n",
      "epoch # 95 loss= 0.0014053878 val_loss= 0.004286377\n",
      "epoch # 96 loss= 0.0014053965 val_loss= 0.0042863386\n",
      "epoch # 97 loss= 0.0014054076 val_loss= 0.004286286\n",
      "epoch # 98 loss= 0.0014054226 val_loss= 0.0042862725\n",
      "epoch # 99 loss= 0.0014054382 val_loss= 0.0042862785\n",
      "Test loss= 0.4927563238507536\n"
     ]
    }
   ],
   "source": [
    "# build the model\n",
    "tf.reset_default_graph()\n",
    "x = tf.placeholder(dtype=tf.float32, shape=[None,1])\n",
    "y = tf.placeholder(dtype=tf.float32, shape=[None,])\n",
    "\n",
    "layer1 = tf.layers.dense(inputs=x, units=8, activation=tf.nn.relu)\n",
    "layer2 = tf.layers.dense(inputs=layer1, units=8, activation=tf.nn.relu)\n",
    "output = tf.layers.dense(inputs=layer2, units=1)\n",
    "# y_pred = tf.add(tf.matmul(output , tf.subtract(max_ , min_)) ,min)\n",
    "loss = tf.reduce_mean(tf.squared_difference(name='square_loss', x=output, y=y))\n",
    "optimizer = tf.train.AdamOptimizer().minimize(loss)\n",
    "\n",
    "training_summary = tf.summary.scalar(\"training_loss\", loss)\n",
    "validation_summary = tf.summary.scalar(\"val_loss\", loss)\n",
    "\n",
    "with tf.Session() as sess:\n",
    "    sess.run(tf.global_variables_initializer())\n",
    "    writer = tf.summary.FileWriter('./log/ann/', sess.graph)\n",
    "    \n",
    "    for i in range(100):\n",
    "        l_train, _, train_summ = sess.run([loss, optimizer, training_summary], feed_dict={x:x_train, y:y_train})\n",
    "        l_val , val_summ = sess.run([loss, validation_summary], feed_dict={x:x_val, y:y_val})\n",
    "        print('epoch #',i,'loss=',l_train, 'val_loss=', l_val)\n",
    "        writer.add_summary(train_summ, i)\n",
    "        writer.add_summary(val_summ, i)\n",
    "        \n",
    "    \n",
    "    y_pred = sess.run(output, feed_dict={x:x_test})\n",
    "#     y_pred = y_pred.eval()\n",
    "    y_pred = y_pred * (max_ - min_) + min_\n",
    "    loss_test = np.mean(np.abs(y_pred - y_test))\n",
    "#     l_test = tf.reduce_mean(tf.squared_difference(x=y_pred, y=y))\n",
    "    print('Test loss=', loss_test)"
   ]
  },
  {
   "cell_type": "code",
   "execution_count": null,
   "metadata": {},
   "outputs": [],
   "source": [
    "    "
   ]
  },
  {
   "cell_type": "code",
   "execution_count": null,
   "metadata": {},
   "outputs": [],
   "source": []
  }
 ],
 "metadata": {
  "kernelspec": {
   "display_name": "Python 3",
   "language": "python",
   "name": "python3"
  },
  "language_info": {
   "codemirror_mode": {
    "name": "ipython",
    "version": 3
   },
   "file_extension": ".py",
   "mimetype": "text/x-python",
   "name": "python",
   "nbconvert_exporter": "python",
   "pygments_lexer": "ipython3",
   "version": "3.6.6rc1"
  }
 },
 "nbformat": 4,
 "nbformat_minor": 2
}
