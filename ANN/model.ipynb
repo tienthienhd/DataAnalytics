{
 "cells": [
  {
   "cell_type": "code",
   "execution_count": 1,
   "metadata": {},
   "outputs": [],
   "source": [
    "import tensorflow as tf\n",
    "import numpy as np"
   ]
  },
  {
   "cell_type": "code",
   "execution_count": 35,
   "metadata": {},
   "outputs": [],
   "source": []
  },
  {
   "cell_type": "code",
   "execution_count": 40,
   "metadata": {},
   "outputs": [],
   "source": [
    "def build_model(layers, activation, inputs):\n",
    "    model = []\n",
    "    for i, num_units in enumerate(layers):\n",
    "        if i == 0: # the first layer -> input is x\n",
    "            layer = tf.layers.dense(inputs=inputs, activation=activation, units=num_units, name='layer'+str(i))\n",
    "        elif i == len(layers)-1 : # output layer -> haven't activation function\n",
    "            layer = tf.layers.dense(inputs=prev_layer, units=num_units, name='layer'+str(i))\n",
    "        else:\n",
    "            layer = tf.layers.dense(inputs=prev_layer, activation=activation, units=num_units, name='layer'+str(i))\n",
    "            \n",
    "        prev_layer = layer\n",
    "        model.append(layer)\n",
    "            \n",
    "    return layer"
   ]
  },
  {
   "cell_type": "code",
   "execution_count": null,
   "metadata": {},
   "outputs": [],
   "source": [
    "def predict(model, inputs):\n",
    "    \n",
    "    "
   ]
  },
  {
   "cell_type": "code",
   "execution_count": 41,
   "metadata": {},
   "outputs": [],
   "source": [
    "tf.reset_default_graph()\n",
    "x = tf.placeholder(dtype=tf.float32, shape=[None, 1], name='x')\n",
    "y = tf.placeholder(dtype=tf.float32, shape=[None, 1], name='y')\n",
    "\n",
    "with tf.Session() as sess:\n",
    "    sess.run(tf.global_variables_initializer())\n",
    "    output = build_model([3, 4, 5, 6], tf.nn.relu, x)\n",
    "    writer = tf.summary.FileWriter('./log', sess.graph)"
   ]
  }
 ],
 "metadata": {
  "kernelspec": {
   "display_name": "Python 3",
   "language": "python",
   "name": "python3"
  },
  "language_info": {
   "codemirror_mode": {
    "name": "ipython",
    "version": 3
   },
   "file_extension": ".py",
   "mimetype": "text/x-python",
   "name": "python",
   "nbconvert_exporter": "python",
   "pygments_lexer": "ipython3",
   "version": "3.6.6rc1"
  }
 },
 "nbformat": 4,
 "nbformat_minor": 2
}
